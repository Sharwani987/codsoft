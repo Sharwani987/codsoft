{
  "cells": [
    {
      "cell_type": "markdown",
      "metadata": {
        "id": "view-in-github",
        "colab_type": "text"
      },
      "source": [
        "<a href=\"https://colab.research.google.com/github/Sharwani987/codsoft_1/blob/main/Task_1_.ipynb\" target=\"_parent\"><img src=\"https://colab.research.google.com/assets/colab-badge.svg\" alt=\"Open In Colab\"/></a>"
      ]
    },
    {
      "cell_type": "markdown",
      "metadata": {
        "id": "bTW5fwSFM1bf"
      },
      "source": [
        "**To Do List**"
      ]
    },
    {
      "cell_type": "markdown",
      "metadata": {
        "id": "MAiq8oXPs619"
      },
      "source": [
        " Task-1: A To-Do List application is a useful project that helps users manage\n",
        " and organize their tasks efficiently. This project aims to create a\n",
        " command-line or GUI-based application using Python, allowing\n",
        " users to create, update, and track their to-do lists."
      ]
    },
    {
      "cell_type": "code",
      "execution_count": null,
      "metadata": {
        "colab": {
          "base_uri": "https://localhost:8080/"
        },
        "id": "kITwpVhBtTXd",
        "outputId": "d31aa773-8ccd-4c6d-fae4-b33e7a92fbc9"
      },
      "outputs": [
        {
          "output_type": "stream",
          "name": "stdout",
          "text": [
            "----- To-Do List Menu -----\n",
            "1. Add Task\n",
            "2. View Tasks\n",
            "3. Update Task\n",
            "4. Delete Task\n",
            "5. Exit\n",
            "Enter your choice (1-5): 1\n",
            "Enter the task: assignment\n",
            "Task added successfully!\n",
            "----- To-Do List Menu -----\n",
            "1. Add Task\n",
            "2. View Tasks\n",
            "3. Update Task\n",
            "4. Delete Task\n",
            "5. Exit\n",
            "Enter your choice (1-5): 1\n",
            "Enter the task: project\n",
            "Task added successfully!\n",
            "----- To-Do List Menu -----\n",
            "1. Add Task\n",
            "2. View Tasks\n",
            "3. Update Task\n",
            "4. Delete Task\n",
            "5. Exit\n",
            "Enter your choice (1-5): 2\n",
            "----- Tasks -----\n",
            "1. assignment\n",
            "2. project\n",
            "----- To-Do List Menu -----\n",
            "1. Add Task\n",
            "2. View Tasks\n",
            "3. Update Task\n",
            "4. Delete Task\n",
            "5. Exit\n",
            "Enter your choice (1-5): 3\n",
            "----- Tasks -----\n",
            "1. assignment\n",
            "2. project\n",
            "Enter the task number to update: 2\n",
            "Enter the updated task: presentation\n",
            "Task updated successfully!\n",
            "----- To-Do List Menu -----\n",
            "1. Add Task\n",
            "2. View Tasks\n",
            "3. Update Task\n",
            "4. Delete Task\n",
            "5. Exit\n",
            "Enter your choice (1-5): 4\n",
            "----- Tasks -----\n",
            "1. assignment\n",
            "2. presentation\n",
            "Enter the task number to delete: 2\n",
            "Task 'presentation' deleted successfully!\n",
            "----- To-Do List Menu -----\n",
            "1. Add Task\n",
            "2. View Tasks\n",
            "3. Update Task\n",
            "4. Delete Task\n",
            "5. Exit\n",
            "Enter your choice (1-5): 2\n",
            "----- Tasks -----\n",
            "1. assignment\n",
            "----- To-Do List Menu -----\n",
            "1. Add Task\n",
            "2. View Tasks\n",
            "3. Update Task\n",
            "4. Delete Task\n",
            "5. Exit\n",
            "Enter your choice (1-5): 5\n",
            "Goodbye!\n"
          ]
        }
      ],
      "source": [
        "tasks = []\n",
        "\n",
        "def show_menu():\n",
        "    print(\"----- To-Do List Menu -----\")\n",
        "    print(\"1. Add Task\")\n",
        "    print(\"2. View Tasks\")\n",
        "    print(\"3. Update Task\")\n",
        "    print(\"4. Delete Task\")\n",
        "    print(\"5. Exit\")\n",
        "\n",
        "def add_task():\n",
        "    task = input(\"Enter the task: \")\n",
        "    tasks.append(task)\n",
        "    print(\"Task added successfully!\")\n",
        "\n",
        "def view_tasks():\n",
        "    if not tasks:\n",
        "        print(\"No tasks found.\")\n",
        "    else:\n",
        "        print(\"----- Tasks -----\")\n",
        "        for i, task in enumerate(tasks):\n",
        "            print(f\"{i+1}. {task}\")\n",
        "\n",
        "def update_task():\n",
        "    if not tasks:\n",
        "        print(\"No tasks found.\")\n",
        "    else:\n",
        "        view_tasks()\n",
        "        task_index = int(input(\"Enter the task number to update: \")) - 1\n",
        "        if task_index < 0 or task_index >= len(tasks):\n",
        "            print(\"Invalid task number.\")\n",
        "        else:\n",
        "            new_task = input(\"Enter the updated task: \")\n",
        "            tasks[task_index] = new_task\n",
        "            print(\"Task updated successfully!\")\n",
        "\n",
        "def delete_task():\n",
        "    if not tasks:\n",
        "        print(\"No tasks found.\")\n",
        "    else:\n",
        "        view_tasks()\n",
        "        task_index = int(input(\"Enter the task number to delete: \")) - 1\n",
        "        if task_index < 0 or task_index >= len(tasks):\n",
        "            print(\"Invalid task number.\")\n",
        "        else:\n",
        "            deleted_task = tasks.pop(task_index)\n",
        "            print(f\"Task '{deleted_task}' deleted successfully!\")\n",
        "\n",
        "while True:\n",
        "    show_menu()\n",
        "    choice = input(\"Enter your choice (1-5): \")\n",
        "\n",
        "    if choice == \"1\":\n",
        "        add_task()\n",
        "    elif choice == \"2\":\n",
        "        view_tasks()\n",
        "    elif choice == \"3\":\n",
        "        update_task()\n",
        "    elif choice == \"4\":\n",
        "        delete_task()\n",
        "    elif choice == \"5\":\n",
        "        print(\"Goodbye!\")\n",
        "        break\n",
        "    else:\n",
        "        print(\"Invalid choice. Please try again.\")"
      ]
    }
  ],
  "metadata": {
    "colab": {
      "provenance": [],
      "authorship_tag": "ABX9TyOHq8TTAMKu8JRrEzziQyhb",
      "include_colab_link": true
    },
    "kernelspec": {
      "display_name": "Python 3",
      "name": "python3"
    },
    "language_info": {
      "name": "python"
    }
  },
  "nbformat": 4,
  "nbformat_minor": 0
}