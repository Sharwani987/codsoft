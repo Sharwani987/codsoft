{
  "nbformat": 4,
  "nbformat_minor": 0,
  "metadata": {
    "colab": {
      "provenance": [],
      "authorship_tag": "ABX9TyOXpUyyJGLDAUOOr/QLI5IR",
      "include_colab_link": true
    },
    "kernelspec": {
      "name": "python3",
      "display_name": "Python 3"
    },
    "language_info": {
      "name": "python"
    }
  },
  "cells": [
    {
      "cell_type": "markdown",
      "metadata": {
        "id": "view-in-github",
        "colab_type": "text"
      },
      "source": [
        "<a href=\"https://colab.research.google.com/github/Sharwani987/codsoft_1/blob/main/Task2.ipynb\" target=\"_parent\"><img src=\"https://colab.research.google.com/assets/colab-badge.svg\" alt=\"Open In Colab\"/></a>"
      ]
    },
    {
      "cell_type": "code",
      "execution_count": null,
      "metadata": {
        "id": "sdnpwR_6kEyP"
      },
      "outputs": [],
      "source": []
    },
    {
      "cell_type": "markdown",
      "source": [
        "Task-2:Design a simple calculator with basic arithmetic operations. Prompt the user to input two numbers and an operation choice. Perform the calculation and display the result."
      ],
      "metadata": {
        "id": "I7iMS9ZakHdA"
      }
    },
    {
      "cell_type": "code",
      "source": [
        "# Function to perform addition\n",
        "def add(num1, num2):\n",
        "    return num1 + num2\n",
        "\n",
        "# Function to perform subtraction\n",
        "def subtract(num1, num2):\n",
        "    return num1 - num2\n",
        "\n",
        "# Function to perform multiplication\n",
        "def multiply(num1, num2):\n",
        "    return num1 * num2\n",
        "\n",
        "# Function to perform division\n",
        "def divide(num1, num2):\n",
        "    if num2 != 0:\n",
        "        return num1 / num2\n",
        "    else:\n",
        "        return \"Error: Cannot divide by zero.\"\n",
        "\n",
        "# Prompt the user for input\n",
        "num1 = float(input(\"Enter the first number: \"))\n",
        "num2 = float(input(\"Enter the second number: \"))\n",
        "\n",
        "# Prompt the user for operation choice\n",
        "operation = input(\"Choose an operation (+, -, *, /): \")\n",
        "\n",
        "# Perform the calculation based on the operation choice\n",
        "if operation == \"+\":\n",
        "    result = add(num1, num2)\n",
        "elif operation == \"-\":\n",
        "    result = subtract(num1, num2)\n",
        "elif operation == \"*\":\n",
        "    result = multiply(num1, num2)\n",
        "elif operation == \"/\":\n",
        "    result = divide(num1, num2)\n",
        "else:\n",
        "    result = \"Invalid operation choice.\"\n",
        "\n",
        "# Display the result\n",
        "print(\"Result:\", result)"
      ],
      "metadata": {
        "colab": {
          "base_uri": "https://localhost:8080/"
        },
        "id": "e2S2ZeizkMSu",
        "outputId": "fca11a0a-1f5f-4e04-c57d-a41ff3e25bed"
      },
      "execution_count": null,
      "outputs": [
        {
          "output_type": "stream",
          "name": "stdout",
          "text": [
            "Enter the first number: 5\n",
            "Enter the second number: 9\n",
            "Choose an operation (+, -, *, /): *\n",
            "Result: 45.0\n"
          ]
        }
      ]
    }
  ]
}