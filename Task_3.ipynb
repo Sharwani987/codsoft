{
  "nbformat": 4,
  "nbformat_minor": 0,
  "metadata": {
    "colab": {
      "provenance": [],
      "authorship_tag": "ABX9TyMkvEckpA5jGzrPqpodwybQ",
      "include_colab_link": true
    },
    "kernelspec": {
      "name": "python3",
      "display_name": "Python 3"
    },
    "language_info": {
      "name": "python"
    }
  },
  "cells": [
    {
      "cell_type": "markdown",
      "metadata": {
        "id": "view-in-github",
        "colab_type": "text"
      },
      "source": [
        "<a href=\"https://colab.research.google.com/github/Sharwani987/codsoft_1/blob/main/Task_3.ipynb\" target=\"_parent\"><img src=\"https://colab.research.google.com/assets/colab-badge.svg\" alt=\"Open In Colab\"/></a>"
      ]
    },
    {
      "cell_type": "code",
      "execution_count": null,
      "metadata": {
        "id": "N8btJ7jpkoPf"
      },
      "outputs": [],
      "source": []
    },
    {
      "cell_type": "markdown",
      "source": [
        "Task-3: Rock-Paper-Scissors Game\n",
        " User Input: Prompt the user to choose rock, paper, or scissors.\n",
        " Computer Selection: Generate a random choice (rock, paper, or scissors) for\n",
        " the computer.\n",
        " Game Logic: Determine the winner based on the user's choice and the\n",
        " computer's choice.\n",
        " Rock beats scissors, scissors beat paper, and paper beats rock.\n",
        " Display Result: Show the user's choice and the computer's choice.\n",
        " Display the result, whether the user wins, loses, or it's a tie.\n",
        " Score Tracking (Optional): Keep track of the user's and computer's scores for\n",
        " multiple rounds.\n",
        " Play Again: Ask the user if they want to play another round.\n",
        " User Interface: Design a user-friendly interface with clear instructions and\n",
        " feedback"
      ],
      "metadata": {
        "id": "_W1GtG-Xko49"
      }
    },
    {
      "cell_type": "code",
      "source": [
        "import random\n",
        "\n",
        "# Function to determine the winner\n",
        "def determine_winner(user_choice, computer_choice):\n",
        "    if user_choice == computer_choice:\n",
        "        return \"It's a tie!\"\n",
        "    elif (user_choice == \"rock\" and computer_choice == \"scissors\") or (user_choice == \"scissors\" and computer_choice == \"paper\") or (user_choice == \"paper\" and computer_choice == \"rock\"):\n",
        "        return \"You win!\"\n",
        "    else:\n",
        "        return \"You lose!\"\n",
        "\n",
        "# Function to play the game\n",
        "def play_game():\n",
        "    choices = [\"rock\", \"paper\", \"scissors\"]\n",
        "    user_score = 0\n",
        "    computer_score = 0\n",
        "\n",
        "    while True:\n",
        "        # Prompt the user for their choice\n",
        "        user_choice = input(\"Choose rock, paper, or scissors (or type 'quit' to exit): \").lower()\n",
        "\n",
        "        # Check if the user wants to quit\n",
        "        if user_choice == \"quit\":\n",
        "            print(\"Thanks for playing!\")\n",
        "            break\n",
        "\n",
        "        # Check if the user's choice is valid\n",
        "        if user_choice not in choices:\n",
        "            print(\"Invalid choice. Please choose rock, paper, or scissors.\")\n",
        "            continue\n",
        "\n",
        "        # Generate the computer's choice\n",
        "        computer_choice = random.choice(choices)\n",
        "# Determine the winner\n",
        "        result = determine_winner(user_choice, computer_choice)\n",
        "\n",
        "        # Update the scores\n",
        "        if result == \"You win!\":\n",
        "            user_score += 1\n",
        "        elif result == \"You lose!\":\n",
        "            computer_score += 1\n",
        "\n",
        "        # Display the choices and result\n",
        "        print(\"Your choice:\", user_choice)\n",
        "        print(\"Computer's choice:\", computer_choice)\n",
        "        print(result)\n",
        "        print(\"Your score:\", user_score)\n",
        "        print(\"Computer's score:\", computer_score)\n",
        "        print()\n",
        "\n",
        "# Start the game\n",
        "play_game()\n"
      ],
      "metadata": {
        "colab": {
          "base_uri": "https://localhost:8080/"
        },
        "id": "mnbsYjuxkvwr",
        "outputId": "ce841ce8-06aa-4e9b-a8bb-5beaa4943232"
      },
      "execution_count": null,
      "outputs": [
        {
          "output_type": "stream",
          "name": "stdout",
          "text": [
            "Choose rock, paper, or scissors (or type 'quit' to exit): rock\n",
            "Your choice: rock\n",
            "Computer's choice: rock\n",
            "It's a tie!\n",
            "Your score: 0\n",
            "Computer's score: 0\n",
            "\n",
            "Choose rock, paper, or scissors (or type 'quit' to exit): scissor\n",
            "Invalid choice. Please choose rock, paper, or scissors.\n",
            "Choose rock, paper, or scissors (or type 'quit' to exit): paper\n",
            "Your choice: paper\n",
            "Computer's choice: rock\n",
            "You win!\n",
            "Your score: 1\n",
            "Computer's score: 0\n",
            "\n",
            "Choose rock, paper, or scissors (or type 'quit' to exit): quit\n",
            "Thanks for playing!\n"
          ]
        }
      ]
    }
  ]
}